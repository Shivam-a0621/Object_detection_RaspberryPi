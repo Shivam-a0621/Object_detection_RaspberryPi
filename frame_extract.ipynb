{
 "cells": [
  {
   "cell_type": "code",
   "execution_count": 1,
   "metadata": {},
   "outputs": [],
   "source": [
    "import cv2\n",
    "import time"
   ]
  },
  {
   "cell_type": "code",
   "execution_count": 2,
   "metadata": {},
   "outputs": [],
   "source": [
    "\n",
    "cpt = 0\n",
    "maxFrames = 80 \n",
    "path= \"F:\\projects\\Crowed_Monetering\\\\videos\\\\triple.mp4\"\n",
    "\n",
    "count=0\n",
    "cap=cv2.VideoCapture(path)\n",
    "while cpt < maxFrames:\n",
    "    ret, frame = cap.read()\n",
    "    if not ret:\n",
    "        break\n",
    "\n",
    "    frame=cv2.resize(frame,(1080,500))\n",
    "    cv2.imshow(\"test window\", frame) \n",
    "    cv2.imwrite(\"F:\\projects\\Crowed_Monetering\\\\triple_Photos\\person_%d.jpg\" %cpt, frame)\n",
    "    time.sleep(0.2)\n",
    "    cpt += 1\n",
    "    if cv2.waitKey(5)&0xFF==27:\n",
    "        break\n",
    "cap.release()   \n",
    "cv2.destroyAllWindows()"
   ]
  }
 ],
 "metadata": {
  "kernelspec": {
   "display_name": "Python 3",
   "language": "python",
   "name": "python3"
  },
  "language_info": {
   "codemirror_mode": {
    "name": "ipython",
    "version": 3
   },
   "file_extension": ".py",
   "mimetype": "text/x-python",
   "name": "python",
   "nbconvert_exporter": "python",
   "pygments_lexer": "ipython3",
   "version": "3.10.8"
  }
 },
 "nbformat": 4,
 "nbformat_minor": 2
}

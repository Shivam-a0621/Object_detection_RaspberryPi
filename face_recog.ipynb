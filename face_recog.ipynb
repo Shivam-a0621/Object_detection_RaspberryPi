{
 "cells": [
  {
   "cell_type": "code",
   "execution_count": 1,
   "metadata": {},
   "outputs": [],
   "source": [
    "import face_recognition\n",
    "import cv2\n",
    "import numpy as np\n"
   ]
  },
  {
   "cell_type": "code",
   "execution_count": 10,
   "metadata": {},
   "outputs": [],
   "source": [
    "video_capture = cv2.VideoCapture(0)\n"
   ]
  },
  {
   "cell_type": "code",
   "execution_count": 2,
   "metadata": {},
   "outputs": [],
   "source": [
    "priya_image = face_recognition.load_image_file(\"F:\\projects\\Crowed_Monetering\\photos_spp\\Priyanav\\IMG-20240413-WA0021.jpg\")\n",
    "priya_face_encoding = face_recognition.face_encodings(priya_image)[0]"
   ]
  },
  {
   "cell_type": "code",
   "execution_count": 3,
   "metadata": {},
   "outputs": [],
   "source": [
    "shivam_image = face_recognition.load_image_file(\"F:\\projects\\Crowed_Monetering\\photos_spp\\Shivam\\IMG-20240415-WA0011.jpg\")\n",
    "shivam_face_encoding = face_recognition.face_encodings(shivam_image)[0]\n",
    "gupta_image = face_recognition.load_image_file(\"F:\\projects\\Crowed_Monetering\\photos_spp\\Priyanshu\\WhatsApp Image 2024-04-15 at 00.29.16_c0234071.jpg\")\n",
    "gupta_face_encoding = face_recognition.face_encodings(gupta_image)[0]\n",
    "unkur_image = face_recognition.load_image_file(\"unkur.jpg\")\n",
    "unkur_face_encoding = face_recognition.face_encodings(unkur_image)[0]\n"
   ]
  },
  {
   "cell_type": "code",
   "execution_count": 4,
   "metadata": {},
   "outputs": [],
   "source": [
    "known_face_encodings = [\n",
    "    priya_face_encoding,\n",
    "    shivam_face_encoding,\n",
    "    gupta_face_encoding,\n",
    "    unkur_face_encoding\n",
    "]"
   ]
  },
  {
   "cell_type": "code",
   "execution_count": 5,
   "metadata": {},
   "outputs": [],
   "source": [
    "known_face_names = [\n",
    "    \"priyanav \",\n",
    "    \"Shivam\",\n",
    "    \"gupta\",\n",
    "    \"Ankur\"\n",
    "]"
   ]
  },
  {
   "cell_type": "code",
   "execution_count": 6,
   "metadata": {},
   "outputs": [],
   "source": [
    "face_locations = []\n",
    "face_encodings = []\n",
    "face_names = []\n",
    "process_this_frame = True"
   ]
  },
  {
   "cell_type": "code",
   "execution_count": 11,
   "metadata": {},
   "outputs": [],
   "source": [
    "while True:\n",
    "  \n",
    "    ret, frame = video_capture.read()\n",
    "\n",
    "    \n",
    "    if process_this_frame:\n",
    "       \n",
    "        small_frame = cv2.resize(frame, (0, 0), fx=0.25, fy=0.25)\n",
    "\n",
    "       \n",
    "        rgb_small_frame = small_frame[:, :, ::-1]\n",
    "        \n",
    "        \n",
    "        face_locations = face_recognition.face_locations(rgb_small_frame)\n",
    "        face_encodings = face_recognition.face_encodings(rgb_small_frame, face_locations)\n",
    "\n",
    "        face_names = []\n",
    "        for face_encoding in face_encodings:\n",
    "            \n",
    "            matches = face_recognition.compare_faces(known_face_encodings, face_encoding)\n",
    "            name = \"Unknown\"\n",
    "\n",
    "            \n",
    "            face_distances = face_recognition.face_distance(known_face_encodings, face_encoding)\n",
    "            best_match_index = np.argmin(face_distances)\n",
    "            if matches[best_match_index]:\n",
    "                name = known_face_names[best_match_index]\n",
    "\n",
    "            face_names.append(name)\n",
    "\n",
    "    process_this_frame = not process_this_frame\n",
    "\n",
    "\n",
    "    \n",
    "    for (top, right, bottom, left), name in zip(face_locations, face_names):\n",
    "       \n",
    "        top *= 4\n",
    "        right *= 4\n",
    "        bottom *= 4\n",
    "        left *= 4\n",
    "\n",
    "        \n",
    "        cv2.rectangle(frame, (left, top), (right, bottom), (0, 0, 255), 2)\n",
    "\n",
    "        \n",
    "        cv2.rectangle(frame, (left, bottom - 35), (right, bottom), (0, 0, 255), cv2.FILLED)\n",
    "        font = cv2.FONT_HERSHEY_DUPLEX\n",
    "        cv2.putText(frame, name, (left + 6, bottom - 6), font, 1.0, (255, 255, 255), 1)\n",
    "\n",
    "    \n",
    "    cv2.imshow('Video', frame)\n",
    "\n",
    "    \n",
    "    if cv2.waitKey(1) & 0xFF == ord('q'):\n",
    "        break\n",
    "\n",
    "\n",
    "video_capture.release()\n",
    "cv2.destroyAllWindows()"
   ]
  },
  {
   "cell_type": "code",
   "execution_count": null,
   "metadata": {},
   "outputs": [],
   "source": [
    "# import a utility function for loading Roboflow models\n",
    "from inference import get_model\n",
    "# import supervision to visualize our results\n",
    "import supervision as sv\n",
    "# import cv2 to helo load our image\n",
    "import cv2\n",
    "# define the image url to use for inference\n",
    "\n",
    "image_file = \"image.jpg\"\n",
    "image = cv2.imread(image_file)\n",
    "\n",
    "# load a pre-trained yolov8n model\n",
    "model = get_model(model_id=\"bike-helmet-detection-2vdjo/2\")\n",
    "\n",
    "# run inference on our chosen image, image can be a url, a numpy array, a PIL image, etc.\n",
    "results = model.infer(image)\n",
    "\n",
    "# load the results into the supervision Detections api\n",
    "detections = sv.Detections.from_inference(results[0].dict(by_alias=True, exclude_none=True))\n",
    "\n",
    "# create supervision annotators\n",
    "bounding_box_annotator = sv.BoundingBoxAnnotator()\n",
    "label_annotator = sv.LabelAnnotator()\n",
    "\n",
    "# annotate the image with our inference results\n",
    "annotated_image = bounding_box_annotator.annotate(\n",
    "    scene=image, detections=detections)\n",
    "annotated_image = label_annotator.annotate(\n",
    "    scene=annotated_image, detections=detections)\n",
    "\n",
    "# display the image\n",
    "sv.plot_image(annotated_image)"
   ]
  }
 ],
 "metadata": {
  "kernelspec": {
   "display_name": "Python 3",
   "language": "python",
   "name": "python3"
  },
  "language_info": {
   "codemirror_mode": {
    "name": "ipython",
    "version": 3
   },
   "file_extension": ".py",
   "mimetype": "text/x-python",
   "name": "python",
   "nbconvert_exporter": "python",
   "pygments_lexer": "ipython3",
   "version": "3.10.8"
  }
 },
 "nbformat": 4,
 "nbformat_minor": 2
}
